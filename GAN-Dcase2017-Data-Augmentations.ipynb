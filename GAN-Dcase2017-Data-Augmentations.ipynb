{
  "nbformat": 4,
  "nbformat_minor": 0,
  "metadata": {
    "colab": {
      "provenance": []
    },
    "kernelspec": {
      "display_name": "Python 3",
      "name": "python3"
    }
  },
  "cells": [
    {
      "cell_type": "code",
      "metadata": {
        "colab": {
          "base_uri": "https://localhost:8080/"
        },
        "id": "7627k55M21CI",
        "outputId": "20cea7ea-fa7b-4ea3-b81b-821247e897ae"
      },
      "source": [
        " try:\n",
        "    from google.colab import drive\n",
        "    drive.mount('/content/drive', force_remount=True)\n",
        "    COLAB = True\n",
        "    print(\"Note: using Google CoLab\")\n",
        "    %tensorflow_version 2.x\n",
        "except:\n",
        "    print(\"Note: not using Google CoLab\")\n",
        "    COLAB = False"
      ],
      "execution_count": null,
      "outputs": [
        {
          "output_type": "stream",
          "text": [
            "Mounted at /content/drive\n",
            "Note: using Google CoLab\n"
          ],
          "name": "stdout"
        }
      ]
    },
    {
      "cell_type": "code",
      "metadata": {
        "id": "sn5CGYbXvYbS"
      },
      "source": [
        "import tensorflow as tf\n",
        "from tensorflow.keras.layers import Input, Reshape, Dropout, Dense \n",
        "from tensorflow.keras.layers import Flatten, BatchNormalization\n",
        "from tensorflow.keras.layers import Activation, ZeroPadding2D\n",
        "from tensorflow.keras.layers import LeakyReLU\n",
        "from tensorflow.keras.layers import UpSampling2D, Conv2D\n",
        "from tensorflow.keras.models import Sequential, Model, load_model\n",
        "from tensorflow.keras.optimizers import Adam\n",
        "from keras import regularizers\n",
        "import numpy as np\n",
        "from PIL import Image\n",
        "from tqdm import tqdm\n",
        "import os \n",
        "import time\n",
        "import matplotlib.pyplot as plt"
      ],
      "execution_count": null,
      "outputs": []
    },
    {
      "cell_type": "code",
      "metadata": {
        "colab": {
          "base_uri": "https://localhost:8080/"
        },
        "id": "9KZ_qdLU2uIu",
        "outputId": "91d86bc0-4078-4f1c-bf92-3992e7e73e58"
      },
      "source": [
        "def load_batch(label_id):\n",
        "  # Функция загружает данные одного класса из набора DCASE2017\n",
        "  # Работает в зависимости от индексов меток data_train_label\n",
        "  # В результате получается 2 массива: массив тренировочных данных и массив его меток\n",
        "\n",
        "  batch_index = []\n",
        "  batch_label = []\n",
        "  batch_data = []\n",
        "  data_train = np.load('/content/drive/My Drive/winter practice/data_train_10classes.npy', allow_pickle=False, fix_imports=False)\n",
        "  data_train_label = np.load('/content/drive/My Drive/winter practice/data_train_label_10classes.npy', allow_pickle=False, fix_imports=False)\n",
        "\n",
        "  for i in range(0, len(data_train_label)):\n",
        "      if label_id == int(data_train_label[i]) and len(batch_index) != 5888:\n",
        "          batch_index.append(i)\n",
        "\n",
        "  for i in batch_index:\n",
        "      batch_data.append(data_train[i])\n",
        "\n",
        "  return np.array(batch_data)\n",
        "\n",
        "FolderForExperiments = '/FolderForExperiments'\n",
        "NextFolder = '/0'\n",
        "ADDITIONAL_FOLDER = FolderForExperiments + NextFolder\n",
        "folder = 'Gan models (after 24.04.2021)' + ADDITIONAL_FOLDER\n",
        "\n",
        "F = 'Gan models (after 24.04.2021)/FolderForExperiments/0'\n",
        "\n",
        "label = 3\n",
        "IMAGE_CHANNELS = 2\n",
        "SEED_SIZE = 100\n",
        "BATCH_SIZE = 256\n",
        "BUFFER_SIZE = 12000\n",
        "epochs = 110\n",
        "\n",
        "#speeds of labels 0, 1\n",
        "#generator_optimizer = tf.keras.optimizers.Adam(2e-4,0.5)\n",
        "#discriminator_optimizer = tf.keras.optimizers.Adam(1.1e-4,0.15,0.98)\n",
        "\n",
        "#speeds of labels 2, 3\n",
        "generator_optimizer = tf.keras.optimizers.Adam(2.5e-4,0.6)\n",
        "discriminator_optimizer = tf.keras.optimizers.Adam(0.8e-4,0.05,0.98)\n",
        "\n",
        "\n",
        "training_data = load_batch(label)\n",
        "training_data = (training_data - 127.5) / 127.5 # Normalize the images to [-1, 1]\n",
        "\n",
        "print(training_data.shape)\n",
        "print(type(training_data))\n",
        "print(training_data.shape[0])\n",
        "\n",
        "# Batch and shuffle the data\n",
        "train_dataset = tf.data.Dataset.from_tensor_slices(training_data).shuffle(BUFFER_SIZE).batch(BATCH_SIZE)"
      ],
      "execution_count": null,
      "outputs": [
        {
          "output_type": "stream",
          "text": [
            "(5888, 128, 42, 2)\n",
            "<class 'numpy.ndarray'>\n",
            "5888\n"
          ],
          "name": "stdout"
        }
      ]
    },
    {
      "cell_type": "code",
      "metadata": {
        "id": "D_yuw1EdeFA0"
      },
      "source": [
        "def build_generator(seed_size, channels):\n",
        "    model = Sequential()\n",
        "\n",
        "    model.add(Dense(128*42*2,activation=\"relu\",input_dim=seed_size))\n",
        "    model.add(Reshape((8,1,1344)))\n",
        "    model.add(BatchNormalization(momentum=0.99))\n",
        "\n",
        "    model.add(UpSampling2D((2,2)))\n",
        "    model.add(Conv2D(256,kernel_size=3,padding=\"same\"))\n",
        "    model.add(BatchNormalization(momentum=0.8))\n",
        "    model.add(Activation(\"relu\"))\n",
        "\n",
        "    model.add(UpSampling2D((2,3)))\n",
        "    model.add(Conv2D(256,kernel_size=3,padding=\"same\"))\n",
        "    model.add(BatchNormalization(momentum=0.8))\n",
        "    model.add(Activation(\"relu\"))\n",
        "   \n",
        "    model.add(UpSampling2D((2,1)))\n",
        "    model.add(Conv2D(128,kernel_size=3,padding=\"same\"))\n",
        "    model.add(BatchNormalization(momentum=0.8))\n",
        "    model.add(Activation(\"relu\"))\n",
        "\n",
        "    model.add(UpSampling2D((2,7)))\n",
        "    model.add(Conv2D(128,kernel_size=3,padding=\"same\"))\n",
        "    model.add(BatchNormalization(momentum=0.8))\n",
        "    model.add(Activation(\"relu\"))\n",
        "\n",
        "    model.add(Conv2D(channels,kernel_size=3,padding=\"same\"))\n",
        "    model.add(Activation(\"tanh\"))\n",
        "\n",
        "    return model\n",
        "    \n",
        "\n",
        "def build_discriminator(image_shape):\n",
        "    model = Sequential()\n",
        "\n",
        "    model.add(Conv2D(32, kernel_size=3, strides=2, input_shape=image_shape, \n",
        "                     padding=\"same\"))\n",
        "    model.add(LeakyReLU(alpha=0.2))\n",
        "\n",
        "    model.add(Dropout(0.2))\n",
        "    model.add(Conv2D(64, kernel_size=3, strides=2, padding=\"same\", \n",
        "                     kernel_regularizer = regularizers.l2(0.00015)))\n",
        "    model.add(ZeroPadding2D(padding=((0,1),(0,1))))\n",
        "    model.add(BatchNormalization(momentum=0.8))\n",
        "    model.add(LeakyReLU(alpha=0.2))\n",
        "\n",
        "    model.add(Dropout(0.2))\n",
        "    model.add(Conv2D(128, kernel_size=3, strides=2, padding=\"same\", \n",
        "                     kernel_regularizer = regularizers.l2(0.00015)))\n",
        "    model.add(BatchNormalization(momentum=0.8))\n",
        "    model.add(LeakyReLU(alpha=0.2))\n",
        "\n",
        "    model.add(Dropout(0.2))\n",
        "    model.add(Conv2D(256, kernel_size=3, strides=1, padding=\"same\", \n",
        "                     kernel_regularizer = regularizers.l2(0.00015)))\n",
        "    model.add(BatchNormalization(momentum=0.8))\n",
        "    model.add(LeakyReLU(alpha=0.2))\n",
        "\n",
        "    model.add(Dropout(0.2))\n",
        "    model.add(Conv2D(512, kernel_size=3, strides=1, padding=\"same\", \n",
        "                     kernel_regularizer = regularizers.l2(0.00015)))\n",
        "    model.add(BatchNormalization(momentum=0.8))\n",
        "    model.add(LeakyReLU(alpha=0.2))\n",
        "\n",
        "    model.add(Dropout(0.2))\n",
        "    model.add(Flatten())\n",
        "    model.add(Dense(1, activation='sigmoid'))\n",
        "\n",
        "    return model"
      ],
      "execution_count": null,
      "outputs": []
    },
    {
      "cell_type": "code",
      "metadata": {
        "colab": {
          "base_uri": "https://localhost:8080/",
          "height": 321
        },
        "id": "DgCZWWKa_VCW",
        "outputId": "2254f7c6-51f4-40bf-af06-dad72b92b334"
      },
      "source": [],
      "execution_count": null,
      "outputs": [
        {
          "output_type": "stream",
          "text": [
            "(1, 128, 42, 2)\n"
          ],
          "name": "stdout"
        },
        {
          "output_type": "stream",
          "text": [
            "/usr/local/lib/python3.7/dist-packages/tensorflow/python/keras/optimizer_v2/optimizer_v2.py:375: UserWarning: The `lr` argument is deprecated, use `learning_rate` instead.\n",
            "  \"The `lr` argument is deprecated, use `learning_rate` instead.\")\n"
          ],
          "name": "stderr"
        },
        {
          "output_type": "display_data",
          "data": {
            "image/png": "[encoded data removed]",
            "text/plain": [
              "<Figure size 432x288 with 1 Axes>"
            ]
          },
          "metadata": {
            "tags": [],
            "needs_background": "light"
          }
        }
      ]
    },
    {
      "cell_type": "code",
      "metadata": {
        "id": "fP3GgnPY_Rsc"
      },
      "source": [
        "image_shape = (128,42,2)\n",
        "discriminator = build_discriminator(image_shape)\n",
        "decision = discriminator(generated_image)\n",
        "print (decision)\n"
      ],
      "execution_count": null,
      "outputs": []
    },
    {
      "cell_type": "code",
      "metadata": {
        "id": "SStoW1FAeF-K"
      },
      "source": [
        "# This method returns a helper function to compute cross entropy loss\n",
        "cross_entropy = tf.keras.losses.BinaryCrossentropy()\n",
        "\n",
        "def discriminator_loss(real_output, fake_output):\n",
        "    real_loss = cross_entropy(tf.ones_like(real_output), real_output)\n",
        "    fake_loss = cross_entropy(tf.zeros_like(fake_output), fake_output)\n",
        "    total_loss = real_loss + fake_loss\n",
        "    return total_loss\n",
        "\n",
        "def generator_loss(fake_output):\n",
        "    return cross_entropy(tf.ones_like(fake_output), fake_output)"
      ],
      "execution_count": null,
      "outputs": []
    },
    {
      "cell_type": "code",
      "metadata": {
        "id": "W7ks2eS7eHvL"
      },
      "source": [
        "#generator_optimizer = tf.keras.optimizers.Adam(2e-4,0.5)\n",
        "#discriminator_optimizer = tf.keras.optimizers.Adam(1.1e-4,0.1,0.98)\n",
        "#discriminator_optimizer = tf.keras.optimizers.Adam(1.5e-4,0.5)"
      ],
      "execution_count": null,
      "outputs": []
    },
    {
      "cell_type": "code",
      "metadata": {
        "id": "cXR1YUDxeJNr"
      },
      "source": [
        "@tf.function\n",
        "def train_step(images):\n",
        "  seed = tf.random.normal([BATCH_SIZE, SEED_SIZE])\n",
        "\n",
        "  with tf.GradientTape() as gen_tape, tf.GradientTape() as disc_tape:\n",
        "    generated_images = generator(seed, training=True)\n",
        "\n",
        "    real_output = discriminator(images, training=True)\n",
        "    fake_output = discriminator(generated_images, training=True)\n",
        "\n",
        "    gen_loss = generator_loss(fake_output)\n",
        "    disc_loss = discriminator_loss(real_output, fake_output)\n",
        "    \n",
        "\n",
        "    gradients_of_generator = gen_tape.gradient(\\\n",
        "        gen_loss, generator.trainable_variables)\n",
        "    gradients_of_discriminator = disc_tape.gradient(\\\n",
        "        disc_loss, discriminator.trainable_variables)\n",
        "\n",
        "    generator_optimizer.apply_gradients(zip(\n",
        "        gradients_of_generator, generator.trainable_variables))\n",
        "    discriminator_optimizer.apply_gradients(zip(\n",
        "        gradients_of_discriminator, \n",
        "        discriminator.trainable_variables))\n",
        "  return gen_loss,disc_loss\n",
        "\n",
        "# Nicely formatted time string\n",
        "def hms_string(sec_elapsed):\n",
        "    h = int(sec_elapsed / (60 * 60))\n",
        "    m = int((sec_elapsed % (60 * 60)) / 60)\n",
        "    s = sec_elapsed % 60\n",
        "    return \"{}:{:>02}:{:>05.2f}\".format(h, m, s)"
      ],
      "execution_count": null,
      "outputs": []
    },
    {
      "cell_type": "code",
      "metadata": {
        "id": "v5iyCmsHeMUr"
      },
      "source": [
        "def train(dataset, epochs):\n",
        " # fixed_seed = np.random.normal(0, 1, (28, SEED_SIZE))\n",
        "  start = time.time()\n",
        "\n",
        "  g_loss_lits = []\n",
        "  d_loss_lits = []\n",
        "  decision_list = []\n",
        "  print(f'Обучение генератора для класса с меткой {label}')\n",
        "\n",
        "  for epoch in range(epochs):\n",
        "    epoch_start = time.time()\n",
        "\n",
        "    gen_loss_list = []\n",
        "    disc_loss_list = []\n",
        "\n",
        "    for image_batch in dataset:\n",
        "      t = train_step(image_batch)\n",
        "      gen_loss_list.append(t[0])\n",
        "      disc_loss_list.append(t[1])\n",
        "\n",
        "    g_loss = sum(gen_loss_list) / len(gen_loss_list)\n",
        "    d_loss = sum(disc_loss_list) / len(disc_loss_list)\n",
        "\n",
        "    d_loss_lits.append(np.float(d_loss))\n",
        "    g_loss_lits.append(np.float(g_loss))\n",
        "\n",
        "    checking_SEED = SEED_SIZE\n",
        "    checking_noise = tf.random.normal([1, checking_SEED])\n",
        "    checking_generated_image = generator(checking_noise, training=False)\n",
        "    decision = discriminator(checking_generated_image, training=False)\n",
        "    decision_list.append(np.float(decision[0][0]*100))\n",
        "\n",
        "    if epoch % 1 == 0:\n",
        "\n",
        "      epoch_elapsed = time.time()-epoch_start\n",
        "      print (f'Epoch {epoch+1},   gen loss = {round(np.float(g_loss),3)},  disc loss = {round(np.float(d_loss),3)},    decision = {round(np.float(decision),3)}',\n",
        "              {hms_string(epoch_elapsed)})\n",
        "   # save_images(epoch,fixed_seed)\n",
        "      #print (decision)  \n",
        "\n",
        "  elapsed = time.time()-start\n",
        "  print (f'Training time: {hms_string(elapsed)}')\n",
        "\n",
        "  return g_loss_lits, d_loss_lits, decision_list\n",
        "\n",
        "  "
      ],
      "execution_count": null,
      "outputs": []
    },
    {
      "cell_type": "code",
      "metadata": {
        "colab": {
          "base_uri": "https://localhost:8080/"
        },
        "id": "qPKFlJ54H60C",
        "outputId": "9fb7e2bf-9440-44fb-80a7-40f175882ffa"
      },
      "source": [
        "g_loss_lits, d_loss_lits, decision_list = train(train_dataset, epochs)"
      ],
      "execution_count": null,
      "outputs": [
        {
          "output_type": "stream",
          "text": [
            "Обучение генератора для класса с меткой 3\n",
            "Epoch 1,   gen loss = 1.909,  disc loss = 1.34,    decision = 0.997 {'0:00:23.24'}\n",
            "Epoch 2,   gen loss = 0.983,  disc loss = 1.895,    decision = 0.955 {'0:00:13.48'}\n",
            "Epoch 3,   gen loss = 0.979,  disc loss = 1.832,    decision = 0.986 {'0:00:13.42'}\n",
            "Epoch 4,   gen loss = 0.907,  disc loss = 1.848,    decision = 0.91 {'0:00:13.54'}\n",
            "Epoch 5,   gen loss = 0.925,  disc loss = 1.796,    decision = 0.967 {'0:00:13.70'}\n",
            "Epoch 6,   gen loss = 0.873,  disc loss = 1.788,    decision = 0.844 {'0:00:13.79'}\n",
            "Epoch 7,   gen loss = 0.902,  disc loss = 1.773,    decision = 0.922 {'0:00:13.71'}\n",
            "Epoch 8,   gen loss = 0.857,  disc loss = 1.74,    decision = 0.756 {'0:00:13.70'}\n",
            "Epoch 9,   gen loss = 0.876,  disc loss = 1.706,    decision = 0.858 {'0:00:13.67'}\n",
            "Epoch 10,   gen loss = 0.852,  disc loss = 1.715,    decision = 0.654 {'0:00:13.58'}\n",
            "Epoch 11,   gen loss = 0.89,  disc loss = 1.723,    decision = 0.796 {'0:00:13.59'}\n",
            "Epoch 12,   gen loss = 0.836,  disc loss = 1.703,    decision = 0.598 {'0:00:13.60'}\n",
            "Epoch 13,   gen loss = 0.86,  disc loss = 1.685,    decision = 0.757 {'0:00:13.63'}\n",
            "Epoch 14,   gen loss = 0.849,  disc loss = 1.685,    decision = 0.511 {'0:00:13.62'}\n",
            "Epoch 15,   gen loss = 0.87,  disc loss = 1.674,    decision = 0.719 {'0:00:13.65'}\n",
            "Epoch 16,   gen loss = 0.822,  disc loss = 1.688,    decision = 0.507 {'0:00:13.65'}\n",
            "Epoch 17,   gen loss = 0.849,  disc loss = 1.655,    decision = 0.702 {'0:00:13.65'}\n",
            "Epoch 18,   gen loss = 0.813,  disc loss = 1.65,    decision = 0.426 {'0:00:13.63'}\n",
            "Epoch 19,   gen loss = 0.85,  disc loss = 1.667,    decision = 0.635 {'0:00:13.64'}\n",
            "Epoch 20,   gen loss = 0.804,  disc loss = 1.647,    decision = 0.4 {'0:00:13.64'}\n",
            "Epoch 21,   gen loss = 0.842,  disc loss = 1.629,    decision = 0.587 {'0:00:13.62'}\n",
            "Epoch 22,   gen loss = 0.809,  disc loss = 1.637,    decision = 0.386 {'0:00:13.60'}\n",
            "Epoch 23,   gen loss = 0.839,  disc loss = 1.645,    decision = 0.579 {'0:00:13.65'}\n",
            "Epoch 24,   gen loss = 0.824,  disc loss = 1.619,    decision = 0.406 {'0:00:13.65'}\n",
            "Epoch 25,   gen loss = 0.861,  disc loss = 1.59,    decision = 0.718 {'0:00:13.60'}\n",
            "Epoch 26,   gen loss = 0.824,  disc loss = 1.659,    decision = 0.573 {'0:00:13.60'}\n",
            "Epoch 27,   gen loss = 0.825,  disc loss = 1.641,    decision = 0.634 {'0:00:13.61'}\n",
            "Epoch 28,   gen loss = 0.809,  disc loss = 1.615,    decision = 0.501 {'0:00:13.62'}\n",
            "Epoch 29,   gen loss = 0.825,  disc loss = 1.608,    decision = 0.612 {'0:00:13.64'}\n",
            "Epoch 30,   gen loss = 0.805,  disc loss = 1.637,    decision = 0.437 {'0:00:13.61'}\n",
            "Epoch 31,   gen loss = 0.834,  disc loss = 1.607,    decision = 0.585 {'0:00:13.62'}\n",
            "Epoch 32,   gen loss = 0.791,  disc loss = 1.602,    decision = 0.403 {'0:00:13.63'}\n",
            "Epoch 33,   gen loss = 0.831,  disc loss = 1.606,    decision = 0.61 {'0:00:13.67'}\n",
            "Epoch 34,   gen loss = 0.805,  disc loss = 1.597,    decision = 0.422 {'0:00:13.59'}\n",
            "Epoch 35,   gen loss = 0.814,  disc loss = 1.57,    decision = 0.635 {'0:00:13.67'}\n",
            "Epoch 36,   gen loss = 0.806,  disc loss = 1.636,    decision = 0.405 {'0:00:13.60'}\n",
            "Epoch 37,   gen loss = 0.828,  disc loss = 1.579,    decision = 0.539 {'0:00:13.60'}\n",
            "Epoch 38,   gen loss = 0.794,  disc loss = 1.618,    decision = 0.452 {'0:00:13.59'}\n",
            "Epoch 39,   gen loss = 0.839,  disc loss = 1.571,    decision = 0.626 {'0:00:13.59'}\n",
            "Epoch 40,   gen loss = 0.798,  disc loss = 1.61,    decision = 0.372 {'0:00:13.55'}\n",
            "Epoch 41,   gen loss = 0.807,  disc loss = 1.574,    decision = 0.53 {'0:00:13.57'}\n",
            "Epoch 42,   gen loss = 0.821,  disc loss = 1.589,    decision = 0.354 {'0:00:13.57'}\n",
            "Epoch 43,   gen loss = 0.831,  disc loss = 1.59,    decision = 0.608 {'0:00:13.55'}\n",
            "Epoch 44,   gen loss = 0.807,  disc loss = 1.572,    decision = 0.291 {'0:00:13.55'}\n",
            "Epoch 45,   gen loss = 0.815,  disc loss = 1.589,    decision = 0.551 {'0:00:13.58'}\n",
            "Epoch 46,   gen loss = 0.786,  disc loss = 1.598,    decision = 0.374 {'0:00:13.56'}\n",
            "Epoch 47,   gen loss = 0.813,  disc loss = 1.595,    decision = 0.569 {'0:00:13.55'}\n",
            "Epoch 48,   gen loss = 0.777,  disc loss = 1.542,    decision = 0.349 {'0:00:13.55'}\n",
            "Epoch 49,   gen loss = 0.821,  disc loss = 1.592,    decision = 0.557 {'0:00:13.55'}\n",
            "Epoch 50,   gen loss = 0.785,  disc loss = 1.59,    decision = 0.352 {'0:00:13.53'}\n",
            "Epoch 51,   gen loss = 0.81,  disc loss = 1.583,    decision = 0.574 {'0:00:13.55'}\n",
            "Epoch 52,   gen loss = 0.782,  disc loss = 1.583,    decision = 0.351 {'0:00:13.55'}\n",
            "Epoch 53,   gen loss = 0.804,  disc loss = 1.574,    decision = 0.565 {'0:00:13.54'}\n",
            "Epoch 54,   gen loss = 0.783,  disc loss = 1.576,    decision = 0.348 {'0:00:13.56'}\n",
            "Epoch 55,   gen loss = 0.803,  disc loss = 1.567,    decision = 0.596 {'0:00:13.57'}\n",
            "Epoch 56,   gen loss = 0.78,  disc loss = 1.579,    decision = 0.341 {'0:00:13.56'}\n",
            "Epoch 57,   gen loss = 0.819,  disc loss = 1.544,    decision = 0.588 {'0:00:13.56'}\n",
            "Epoch 58,   gen loss = 0.776,  disc loss = 1.55,    decision = 0.335 {'0:00:13.56'}\n",
            "Epoch 59,   gen loss = 0.814,  disc loss = 1.57,    decision = 0.531 {'0:00:13.59'}\n",
            "Epoch 60,   gen loss = 0.776,  disc loss = 1.555,    decision = 0.323 {'0:00:13.53'}\n",
            "Epoch 61,   gen loss = 0.821,  disc loss = 1.552,    decision = 0.583 {'0:00:13.53'}\n",
            "Epoch 62,   gen loss = 0.785,  disc loss = 1.563,    decision = 0.333 {'0:00:13.56'}\n",
            "Epoch 63,   gen loss = 0.801,  disc loss = 1.547,    decision = 0.538 {'0:00:13.54'}\n",
            "Epoch 64,   gen loss = 0.787,  disc loss = 1.566,    decision = 0.401 {'0:00:13.53'}\n",
            "Epoch 65,   gen loss = 0.801,  disc loss = 1.556,    decision = 0.556 {'0:00:13.55'}\n",
            "Epoch 66,   gen loss = 0.769,  disc loss = 1.557,    decision = 0.36 {'0:00:13.54'}\n",
            "Epoch 67,   gen loss = 0.803,  disc loss = 1.55,    decision = 0.614 {'0:00:13.55'}\n",
            "Epoch 68,   gen loss = 0.784,  disc loss = 1.559,    decision = 0.359 {'0:00:13.55'}\n",
            "Epoch 69,   gen loss = 0.805,  disc loss = 1.562,    decision = 0.616 {'0:00:13.55'}\n",
            "Epoch 70,   gen loss = 0.777,  disc loss = 1.565,    decision = 0.325 {'0:00:13.54'}\n",
            "Epoch 71,   gen loss = 0.803,  disc loss = 1.548,    decision = 0.619 {'0:00:13.56'}\n",
            "Epoch 72,   gen loss = 0.777,  disc loss = 1.552,    decision = 0.363 {'0:00:13.56'}\n",
            "Epoch 73,   gen loss = 0.819,  disc loss = 1.556,    decision = 0.541 {'0:00:13.54'}\n",
            "Epoch 74,   gen loss = 0.78,  disc loss = 1.542,    decision = 0.321 {'0:00:13.57'}\n",
            "Epoch 75,   gen loss = 0.815,  disc loss = 1.517,    decision = 0.568 {'0:00:13.57'}\n",
            "Epoch 76,   gen loss = 0.782,  disc loss = 1.548,    decision = 0.35 {'0:00:13.57'}\n",
            "Epoch 77,   gen loss = 0.804,  disc loss = 1.531,    decision = 0.64 {'0:00:13.55'}\n",
            "Epoch 78,   gen loss = 0.798,  disc loss = 1.556,    decision = 0.371 {'0:00:13.56'}\n",
            "Epoch 79,   gen loss = 0.821,  disc loss = 1.544,    decision = 0.599 {'0:00:13.54'}\n",
            "Epoch 80,   gen loss = 0.779,  disc loss = 1.542,    decision = 0.352 {'0:00:13.53'}\n",
            "Epoch 81,   gen loss = 0.809,  disc loss = 1.544,    decision = 0.631 {'0:00:13.54'}\n",
            "Epoch 82,   gen loss = 0.782,  disc loss = 1.549,    decision = 0.343 {'0:00:13.52'}\n",
            "Epoch 83,   gen loss = 0.83,  disc loss = 1.568,    decision = 0.622 {'0:00:13.59'}\n",
            "Epoch 84,   gen loss = 0.78,  disc loss = 1.535,    decision = 0.348 {'0:00:13.53'}\n",
            "Epoch 85,   gen loss = 0.826,  disc loss = 1.528,    decision = 0.62 {'0:00:13.54'}\n",
            "Epoch 86,   gen loss = 0.799,  disc loss = 1.539,    decision = 0.333 {'0:00:13.54'}\n",
            "Epoch 87,   gen loss = 0.827,  disc loss = 1.517,    decision = 0.599 {'0:00:13.56'}\n",
            "Epoch 88,   gen loss = 0.803,  disc loss = 1.546,    decision = 0.34 {'0:00:13.53'}\n",
            "Epoch 89,   gen loss = 0.822,  disc loss = 1.523,    decision = 0.601 {'0:00:13.55'}\n",
            "Epoch 90,   gen loss = 0.81,  disc loss = 1.521,    decision = 0.329 {'0:00:13.53'}\n",
            "Epoch 91,   gen loss = 0.847,  disc loss = 1.533,    decision = 0.642 {'0:00:13.54'}\n",
            "Epoch 92,   gen loss = 0.808,  disc loss = 1.511,    decision = 0.35 {'0:00:13.54'}\n",
            "Epoch 93,   gen loss = 0.853,  disc loss = 1.53,    decision = 0.604 {'0:00:13.54'}\n",
            "Epoch 94,   gen loss = 0.826,  disc loss = 1.536,    decision = 0.35 {'0:00:13.54'}\n",
            "Epoch 95,   gen loss = 0.849,  disc loss = 1.492,    decision = 0.635 {'0:00:13.54'}\n",
            "Epoch 96,   gen loss = 0.831,  disc loss = 1.536,    decision = 0.336 {'0:00:13.54'}\n",
            "Epoch 97,   gen loss = 0.975,  disc loss = 1.479,    decision = 0.265 {'0:00:13.55'}\n",
            "Epoch 98,   gen loss = 0.863,  disc loss = 1.503,    decision = 0.617 {'0:00:13.54'}\n",
            "Epoch 99,   gen loss = 0.822,  disc loss = 1.501,    decision = 0.277 {'0:00:13.54'}\n",
            "Epoch 100,   gen loss = 0.879,  disc loss = 1.525,    decision = 0.553 {'0:00:13.53'}\n",
            "Epoch 101,   gen loss = 0.851,  disc loss = 1.495,    decision = 0.262 {'0:00:13.51'}\n",
            "Epoch 102,   gen loss = 0.886,  disc loss = 1.491,    decision = 0.576 {'0:00:13.51'}\n",
            "Epoch 103,   gen loss = 0.868,  disc loss = 1.522,    decision = 0.262 {'0:00:13.52'}\n",
            "Epoch 104,   gen loss = 0.9,  disc loss = 1.48,    decision = 0.576 {'0:00:13.53'}\n",
            "Epoch 105,   gen loss = 0.877,  disc loss = 1.495,    decision = 0.316 {'0:00:13.53'}\n",
            "Epoch 106,   gen loss = 0.9,  disc loss = 1.495,    decision = 0.607 {'0:00:13.54'}\n",
            "Epoch 107,   gen loss = 0.881,  disc loss = 1.488,    decision = 0.267 {'0:00:13.56'}\n",
            "Epoch 108,   gen loss = 0.938,  disc loss = 1.508,    decision = 0.604 {'0:00:13.54'}\n",
            "Epoch 109,   gen loss = 0.888,  disc loss = 1.458,    decision = 0.231 {'0:00:13.55'}\n",
            "Epoch 110,   gen loss = 0.941,  disc loss = 1.487,    decision = 0.554 {'0:00:13.53'}\n",
            "Training time: 0:25:02.80\n"
          ],
          "name": "stdout"
        }
      ]
    },
    {
      "cell_type": "code",
      "metadata": {
        "id": "BBKLRWC79KnE",
        "colab": {
          "base_uri": "https://localhost:8080/",
          "height": 573
        },
        "outputId": "cd7dd71d-4413-4251-d2f7-7425d249402f"
      },
      "source": [
        "  from matplotlib.pyplot import savefig\n",
        "  \n",
        "  epochs_array = []\n",
        "  for i in range(0, epochs):\n",
        "    epochs_array.append(i+1)\n",
        "\n",
        "  plt.plot(epochs_array, g_loss_lits, 'g', label = 'Потери генератора' )\n",
        "  plt.plot(epochs_array, d_loss_lits, 'b', label = 'Потери дискриминатора')\n",
        "  plt.title('Потери при обучения генеатора и дискриминатора')\n",
        "  plt.xlabel('Эпоха')\n",
        "  plt.ylabel('Потери')\n",
        "  plt.grid()\n",
        "  plt.legend()\n",
        "  savefig(f'/content/drive/My Drive/winter practice/{folder}/{label}/gen,disc losses - class #{label}.png')\n",
        "  plt.show()\n",
        "\n",
        "  plt.clf()\n",
        "\n",
        "  plt.plot(epochs_array, decision_list )\n",
        "  plt.title('Сходство генерируемых изображения с оригиналом')\n",
        "  plt.xlabel('Эпоха')\n",
        "  plt.ylabel('%')\n",
        "  plt.grid()\n",
        "  savefig(f'/content/drive/My Drive/winter practice/{folder}/{label}/images quality - class #{label}.png')\n",
        "  plt.show()"
      ],
      "execution_count": null,
      "outputs": [
        {
          "output_type": "display_data",
          "data": {
            "image/png": "[encoded data removed]",
            "text/plain": [
              "<Figure size 432x288 with 1 Axes>"
            ]
          },
          "metadata": {
            "tags": [],
            "needs_background": "light"
          }
        },
        {
          "output_type": "display_data",
          "data": {
            "image/png": "[encoded data removed]",
            "text/plain": [
              "<Figure size 432x288 with 1 Axes>"
            ]
          },
          "metadata": {
            "tags": [],
            "needs_background": "light"
          }
        }
      ]
    },
    {
      "cell_type": "code",
      "metadata": {
        "id": "IyLxhm5oipWv",
        "colab": {
          "base_uri": "https://localhost:8080/",
          "height": 319
        },
        "outputId": "f76d3fb0-6acd-4792-ef26-8c7bc8fc4daf"
      },
      "source": [
        "noise = tf.random.normal([1, SEED_SIZE])\n",
        "generated_image = generator(noise, training=False)\n",
        "decision = discriminator(generated_image)\n",
        "print (decision)\n",
        "print(generated_image.shape)\n",
        "plt.imshow(generated_image[0, :, :, 0])"
      ],
      "execution_count": null,
      "outputs": [
        {
          "output_type": "stream",
          "text": [
            "tf.Tensor([[0.5471775]], shape=(1, 1), dtype=float32)\n",
            "(1, 128, 42, 2)\n"
          ],
          "name": "stdout"
        },
        {
          "output_type": "execute_result",
          "data": {
            "text/plain": [
              "<matplotlib.image.AxesImage at 0x7fd5cf887e10>"
            ]
          },
          "metadata": {
            "tags": []
          },
          "execution_count": 37
        },
        {
          "output_type": "display_data",
          "data": {
            "image/png": "[encoded data removed]",
            "text/plain": [
              "<Figure size 432x288 with 1 Axes>"
            ]
          },
          "metadata": {
            "tags": [],
            "needs_background": "light"
          }
        }
      ]
    },
    {
      "cell_type": "code",
      "metadata": {
        "id": "ER2cM0OV_m8O",
        "colab": {
          "base_uri": "https://localhost:8080/"
        },
        "outputId": "b4010ef3-dbfe-4253-f804-5abb33cbf480"
      },
      "source": [
        "DATA_PATH1 = f'/content/drive/My Drive/winter practice/{folder}/{label}'\n",
        "DATA_PATH2 = f'/content/drive/My Drive/winter practice/{folder}/{label}'\n",
        "\n",
        "generator.save(os.path.join(DATA_PATH1,f\"generator-[{label}].h5\"))\n",
        "discriminator.save(DATA_PATH2,f\"discriminator-[{label}].h5\")"
      ],
      "execution_count": null,
      "outputs": [
        {
          "output_type": "stream",
          "text": [
            "INFO:tensorflow:Assets written to: /content/drive/My Drive/winter practice/Gan models (after 24.04.2021)/FolderForExperiments/0/3/assets\n"
          ],
          "name": "stdout"
        }
      ]
    },
    {
      "cell_type": "code",
      "metadata": {
        "id": "OGiPKoECLrpl",
        "colab": {
          "base_uri": "https://localhost:8080/"
        },
        "outputId": "d06daacb-cce4-4a3d-8c51-1fd9e1ae8bdd"
      },
      "source": [
        "try:\n",
        "    from google.colab import drive\n",
        "    drive.mount('/content/drive', force_remount=True)\n",
        "    COLAB = True\n",
        "    print(\"Note: using Google CoLab\")\n",
        "    %tensorflow_version 2.x\n",
        "except:\n",
        "    print(\"Note: not using Google CoLab\")\n",
        "    COLAB = False\n",
        "\n"
      ],
      "execution_count": null,
      "outputs": [
        {
          "output_type": "stream",
          "text": [
            "Mounted at /content/drive\n",
            "Note: using Google CoLab\n"
          ],
          "name": "stdout"
        }
      ]
    },
    {
      "cell_type": "code",
      "metadata": {
        "id": "GurLzxehctia"
      },
      "source": [
        "def data_generator(count, label, SEED_SIZE):\n",
        "  start = time.time()\n",
        "\n",
        "  data_case = []\n",
        "  label_case = []\n",
        "  SEED_SIZE = SEED_SIZE\n",
        "  n = 0\n",
        "\n",
        "  while n != count:\n",
        "    noise = tf.random.normal([1, SEED_SIZE])\n",
        "    generated_image = generator(noise, training=False)\n",
        "    data_case.append(generated_image[0])   \n",
        "    label_case.append(label) \n",
        "    n+=1\n",
        "\n",
        "  elapsed = time.time()-start\n",
        "  print (f'Generating time: {hms_string(elapsed)}')\n",
        "\n",
        "  return data_case, label_case\n",
        "\n",
        "# Nicely formatted time string\n",
        "def hms_string(sec_elapsed):\n",
        "    h = int(sec_elapsed / (60 * 60))\n",
        "    m = int((sec_elapsed % (60 * 60)) / 60)\n",
        "    s = sec_elapsed % 60\n",
        "    return \"{}:{:>02}:{:>05.2f}\".format(h, m, s)\n"
      ],
      "execution_count": null,
      "outputs": []
    },
    {
      "cell_type": "code",
      "metadata": {
        "id": "PD68HFOEJDKc",
        "colab": {
          "base_uri": "https://localhost:8080/"
        },
        "outputId": "5d5df698-6a9c-4e0a-a8b7-44674226ee71"
      },
      "source": [
        "from tensorflow.keras.models import load_model\n",
        "import os\n",
        "import datetime as dt\n",
        "import six\n",
        "import h5py\n",
        "\n",
        "generated_data, label_case = data_generator(5888, 0, SEED_SIZE=SEED_SIZE)\n",
        "\n",
        "print(np.array(generated_data).shape)\n",
        "print(np.array(label_case).shape)\n",
        "\n",
        "with open(f'/content/drive/My Drive/winter practice/{folder}/{label}/data_{label}.npy', 'wb') as f:\n",
        "    np.save(f, np.array(generated_data), allow_pickle = False , fix_imports = False)\n",
        "    print(f'Fragments saved successfully data_{label}.npy')\n",
        "    \n",
        "with open(f'/content/drive/My Drive/winter practice/{folder}/{label}/label_{label}.npy', 'wb') as f:\n",
        "    np.save(f, np.array(label_case), allow_pickle = False , fix_imports = False)\n",
        "    print(f'Labels saved successfully in file label_{label}.npy')"
      ],
      "execution_count": null,
      "outputs": [
        {
          "output_type": "stream",
          "text": [
            "Generating time: 0:00:39.99\n",
            "(5888, 128, 42, 2)\n",
            "(5888,)\n",
            "Fragments saved successfully data_3.npy\n",
            "Labels saved successfully in file label_3.npy\n"
          ],
          "name": "stdout"
        }
      ]
    },
    {
      "cell_type": "code",
      "metadata": {
        "id": "-4nNKzA_Mk59"
      },
      "source": [
        "#epochs2 = 30\n",
        "#g_loss_lits2, d_loss_lits2, decision_list2 = train(train_dataset, epochs2)\n"
      ],
      "execution_count": null,
      "outputs": []
    },
    {
      "cell_type": "code",
      "metadata": {
        "id": "rdP4Clddc-yd"
      },
      "source": [
        "#epochs3 = 30\n",
        "#g_loss_lits3, d_loss_lits3, decision_list3 = train(train_dataset, epochs3)"
      ],
      "execution_count": null,
      "outputs": []
    }
  ]
}